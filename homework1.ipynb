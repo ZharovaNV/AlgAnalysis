{
 "cells": [
  {
   "cell_type": "markdown",
   "metadata": {},
   "source": [
    "1. Подберите скорость обучения (alpha) и количество итераций"
   ]
  },
  {
   "cell_type": "code",
   "execution_count": 2,
   "metadata": {},
   "outputs": [],
   "source": [
    "import numpy as np\n",
    "import matplotlib.pyplot as plt"
   ]
  },
  {
   "cell_type": "code",
   "execution_count": 4,
   "metadata": {},
   "outputs": [
    {
     "data": {
      "text/plain": [
       "array([[ 1,  1,  1,  1,  1,  1,  1,  1,  1,  1],\n",
       "       [ 1,  1,  2,  5,  3,  0,  5, 10,  1,  2]])"
      ]
     },
     "execution_count": 4,
     "metadata": {},
     "output_type": "execute_result"
    }
   ],
   "source": [
    "X = np.array([[1, 1, 1, 1, 1, 1, 1, 1, 1, 1],\n",
    "              [1, 1, 2, 5, 3, 0, 5, 10, 1, 2]])\n",
    "X"
   ]
  },
  {
   "cell_type": "code",
   "execution_count": 5,
   "metadata": {},
   "outputs": [],
   "source": [
    "y = [45, 55, 50, 55, 60, 35, 75, 80, 50, 60]"
   ]
  },
  {
   "cell_type": "code",
   "execution_count": 6,
   "metadata": {},
   "outputs": [],
   "source": [
    "def calc_mae(y, y_pred):\n",
    "    err = np.mean(np.abs(y - y_pred))\n",
    "    return err\n",
    "\n",
    "def calc_mse(y, y_pred):\n",
    "    err = np.mean((y - y_pred)**2) # <=> 1/n * np.sum((y_pred - y)**2)\n",
    "    return err"
   ]
  },
  {
   "cell_type": "code",
   "execution_count": 68,
   "metadata": {},
   "outputs": [
    {
     "name": "stdout",
     "output_type": "stream",
     "text": [
      "Number of objects = 10        \n",
      "Learning rate = 1.8915749252827903e-05        \n",
      "Initial weights = [1.  0.5] \n",
      "\n",
      "Iteration #10: W_new = [-2.68141293e+08 -1.47871043e+09], MSE = 6.295256789908166e+18\n",
      "Iteration #20: W_new = [-2.98054282e+09 -1.64367041e+10], MSE = 8.602114155481643e+21\n",
      "Iteration #30: W_new = [-109945.30320433 -606555.53773599], MSE = 231778523338729.5\n",
      "Iteration #40: W_new = [44.92869244  3.83676399], MSE = 43.97758093\n",
      "Iteration #50: W_new = [44.95330892  3.83230012], MSE = 43.97457607\n",
      "Iteration #60: W_new = [44.97002319  3.82926924], MSE = 43.97290319\n",
      "Iteration #70: W_new = [44.98214377  3.82707136], MSE = 43.97187206\n",
      "Iteration #80: W_new = [44.99135202  3.82540159], MSE = 43.97118947\n",
      "Iteration #90: W_new = [44.99859481  3.82408822], MSE = 43.97071305\n",
      "Iteration #100: W_new = [45.00444695  3.82302703], MSE = 43.97036666\n",
      "Iteration #110: W_new = [45.00927801  3.82215099], MSE = 43.97010652\n",
      "Iteration #120: W_new = [45.01333665  3.82141502], MSE = 43.9699059\n",
      "Iteration #130: W_new = [45.01679645  3.82078763], MSE = 43.96974776\n",
      "Iteration #140: W_new = [45.01978236  3.82024619], MSE = 43.96962077\n",
      "Iteration #150: W_new = [45.02238661  3.81977394], MSE = 43.96951716\n",
      "Iteration #160: W_new = [45.02467886  3.81935828], MSE = 43.96943147\n",
      "Iteration #170: W_new = [45.02671267  3.81898948], MSE = 43.96935974\n",
      "Iteration #180: W_new = [45.02852996  3.81865994], MSE = 43.96929906\n",
      "Iteration #190: W_new = [45.03016398  3.81836364], MSE = 43.96924724\n",
      "Iteration #200: W_new = [45.03164147  3.81809572], MSE = 43.96920262\n",
      "Iteration #210: W_new = [45.03298417  3.81785224], MSE = 43.96916391\n",
      "Iteration #220: W_new = [45.03420997  3.81762996], MSE = 43.96913009\n",
      "Iteration #230: W_new = [45.03533369  3.81742619], MSE = 43.96910037\n",
      "Iteration #240: W_new = [45.03636773  3.81723868], MSE = 43.9690741\n",
      "Iteration #250: W_new = [45.03732256  3.81706554], MSE = 43.96905075\n",
      "Iteration #260: W_new = [45.03820707  3.81690515], MSE = 43.96902991\n",
      "Iteration #270: W_new = [45.03902884  3.81675613], MSE = 43.96901123\n",
      "Iteration #280: W_new = [45.03979442  3.81661731], MSE = 43.96899441\n",
      "Iteration #290: W_new = [45.04050946  3.81648765], MSE = 43.9689792\n",
      "Iteration #300: W_new = [45.04117886  3.81636626], MSE = 43.96896542\n",
      "Iteration #310: W_new = [45.04180692  3.81625237], MSE = 43.96895287\n",
      "Iteration #320: W_new = [45.04239741  3.8161453 ], MSE = 43.96894142\n",
      "Iteration #330: W_new = [45.04295364  3.81604443], MSE = 43.96893095\n",
      "Iteration #331: W_new = [45.04295364  3.81604443], MSE = 43.96893095\n"
     ]
    }
   ],
   "source": [
    "## n = X.shape[1]\n",
    "W = np.array([1, 0.5])\n",
    "max_iter = 1000000\n",
    "min_weight_dist = 1e-6 \n",
    "err = np.inf\n",
    "print(f'Number of objects = {n} \\\n",
    "       \\nLearning rate = {alpha} \\\n",
    "       \\nInitial weights = {W} \\n')\n",
    "\n",
    "for i in range(1, max_iter):\n",
    "    alpha = 1 / i\n",
    "    y_pred = np.dot(W, X)\n",
    "    err_new = calc_mse(y, y_pred)\n",
    "    if np.linalg.norm(err_new - err) < min_weight_dist:\n",
    "        print(f'Iteration #{i}: W_new = {W}, MSE = {round(err,8)}')\n",
    "        break\n",
    "    err = err_new\n",
    "    for k in range(W.shape[0]):\n",
    "        W[k] -= alpha * (1/n * 2 * np.sum(X[k] * (y_pred - y)))\n",
    "    if i % 10 == 0:\n",
    "        alpha /= 1.1\n",
    "        print(f'Iteration #{i}: W_new = {W}, MSE = {round(err,8)}')\n",
    "    "
   ]
  },
  {
   "cell_type": "markdown",
   "metadata": {},
   "source": [
    "*2. В этом коде мы избавляемся от итераций по весам, но тут есть ошибка, исправьте ее"
   ]
  },
  {
   "cell_type": "code",
   "execution_count": 64,
   "metadata": {},
   "outputs": [
    {
     "name": "stdout",
     "output_type": "stream",
     "text": [
      "Number of objects = 10        \n",
      "Learning rate = 0.01        \n",
      "Initial weights = [1.  0.5] \n",
      "\n",
      "Iteration #0: W_new = [2.08 4.27], MSE = 3047.75\n",
      "Iteration #10: W_new = [ 6.67106886 10.61676385], MSE = 749.71\n",
      "Iteration #20: W_new = [ 9.49320908 10.25731657], MSE = 648.91\n",
      "Iteration #30: W_new = [11.85740092  9.83349244], MSE = 570.46\n",
      "Iteration #40: W_new = [13.86876921  9.46898661], MSE = 508.03\n",
      "Iteration #50: W_new = [15.59085668  9.15672679], MSE = 457.73\n",
      "Iteration #60: W_new = [17.07337653  8.88789585], MSE = 416.77\n",
      "Iteration #70: W_new = [18.35601294  8.65530964], MSE = 383.06\n",
      "Iteration #80: W_new = [19.47073522  8.45317196], MSE = 355.08\n",
      "Iteration #90: W_new = [20.44350656  8.27677488], MSE = 331.65\n"
     ]
    }
   ],
   "source": [
    "n = X.shape[1]\n",
    "alpha = 1e-2\n",
    "W = np.array([1, 0.5])\n",
    "print(f'Number of objects = {n} \\\n",
    "       \\nLearning rate = {alpha} \\\n",
    "       \\nInitial weights = {W} \\n')\n",
    "\n",
    "for i in range(100):\n",
    "    y_pred = np.dot(W, X)\n",
    "    err = calc_mse(y, y_pred)\n",
    "#    for k in range(W.shape[0]):\n",
    "#        W[k] -= alpha * (1/n * 2 * np.sum(X[k] * (y_pred - y)))\n",
    "    W -= alpha * (1/n * 2 * X @ (y_pred - y))\n",
    "    W_pred = W\n",
    "    if i % 10 == 0:\n",
    "        alpha /= 1.1\n",
    "        print(f'Iteration #{i}: W_new = {W}, MSE = {round(err,2)}')"
   ]
  },
  {
   "cell_type": "code",
   "execution_count": null,
   "metadata": {},
   "outputs": [],
   "source": []
  }
 ],
 "metadata": {
  "kernelspec": {
   "display_name": "Python 3",
   "language": "python",
   "name": "python3"
  },
  "language_info": {
   "codemirror_mode": {
    "name": "ipython",
    "version": 3
   },
   "file_extension": ".py",
   "mimetype": "text/x-python",
   "name": "python",
   "nbconvert_exporter": "python",
   "pygments_lexer": "ipython3",
   "version": "3.7.4"
  }
 },
 "nbformat": 4,
 "nbformat_minor": 2
}
